{
 "cells": [
  {
   "cell_type": "code",
   "execution_count": 24,
   "metadata": {},
   "outputs": [],
   "source": [
    "from __future__ import absolute_import, division, print_function, unicode_literals\n",
    "\n",
    "import tensorflow as tf\n",
    "\n",
    "from tensorflow.keras import datasets, layers, models\n",
    "import matplotlib.pyplot as plt\n",
    "import numpy as np\n",
    "\n",
    "import array"
   ]
  },
  {
   "cell_type": "markdown",
   "metadata": {},
   "source": [
    "# Load training and testing video\n",
    "- Load mp4 videos\n",
    "- Load annotated speeds for both test and training\n"
   ]
  },
  {
   "cell_type": "code",
   "execution_count": 39,
   "metadata": {},
   "outputs": [],
   "source": [
    "import cv2\n",
    "\n",
    "vcap = cv2.VideoCapture('train.mp4') #\n",
    "vcapTest = cv2.VideoCapture('test.mp4') #\n",
    "# width  = int(vcap.get(cv2.CAP_PROP_FRAME_WIDTH))   # float\n",
    "# height = int(vcap.get(cv2.CAP_PROP_FRAME_HEIGHT))  # float"
   ]
  },
  {
   "cell_type": "code",
   "execution_count": 21,
   "metadata": {},
   "outputs": [],
   "source": [
    "import json\n",
    "#load training data\n",
    "with open('train.txt', 'r') as file_:\n",
    "            gt = file_.readlines()\n",
    "            gt = [float(x.strip()) for x in gt]\n",
    "#load training data\n",
    "\n",
    "with open('testSample.json') as f:\n",
    "      bt = json.load(f)\n",
    "           \n",
    "\n",
    "gt = np.array(gt[:20400])\n"
   ]
  },
  {
   "cell_type": "markdown",
   "metadata": {},
   "source": [
    "# Create Model\n",
    "- Model contains 8 layers\n",
    "   - Utilizes Relu Activation\n",
    "- two full connected layers at the end\n",
    "- output of 36 because the max speed in first vid tops at 36\n"
   ]
  },
  {
   "cell_type": "code",
   "execution_count": 22,
   "metadata": {},
   "outputs": [
    {
     "name": "stdout",
     "output_type": "stream",
     "text": [
      "Model: \"sequential_1\"\n",
      "_________________________________________________________________\n",
      "Layer (type)                 Output Shape              Param #   \n",
      "=================================================================\n",
      "conv2d_3 (Conv2D)            (None, 218, 568, 220)     2200      \n",
      "_________________________________________________________________\n",
      "max_pooling2d_2 (MaxPooling2 (None, 109, 284, 220)     0         \n",
      "_________________________________________________________________\n",
      "conv2d_4 (Conv2D)            (None, 107, 282, 64)      126784    \n",
      "_________________________________________________________________\n",
      "max_pooling2d_3 (MaxPooling2 (None, 53, 141, 64)       0         \n",
      "_________________________________________________________________\n",
      "conv2d_5 (Conv2D)            (None, 51, 139, 64)       36928     \n",
      "_________________________________________________________________\n",
      "flatten_1 (Flatten)          (None, 453696)            0         \n",
      "_________________________________________________________________\n",
      "dense_2 (Dense)              (None, 64)                29036608  \n",
      "_________________________________________________________________\n",
      "dense_3 (Dense)              (None, 36)                2340      \n",
      "=================================================================\n",
      "Total params: 29,204,860\n",
      "Trainable params: 29,204,860\n",
      "Non-trainable params: 0\n",
      "_________________________________________________________________\n"
     ]
    }
   ],
   "source": [
    "#model\n",
    "model = models.Sequential()\n",
    "model.add(layers.Conv2D(220, (3, 3), activation='relu', input_shape=(220, 570, 1)))\n",
    "model.add(layers.MaxPooling2D((2, 2)))\n",
    "model.add(layers.Conv2D(64, (3, 3), activation='relu'))\n",
    "model.add(layers.MaxPooling2D((2, 2)))\n",
    "model.add(layers.Conv2D(64, (3, 3), activation='relu'))\n",
    "model.add(layers.Flatten())\n",
    "model.add(layers.Dense(64, activation='relu'))\n",
    "model.add(layers.Dense(36))\n",
    "model.summary()"
   ]
  },
  {
   "cell_type": "markdown",
   "metadata": {},
   "source": [
    "# Create training and testing frames\n",
    "- Take each individual frame from the video\n",
    "    - Turn frame black and white\n",
    "    - and decrease the dimensionality of the frames\n",
    "    - Why? Initial Frames too large to train"
   ]
  },
  {
   "cell_type": "code",
   "execution_count": 40,
   "metadata": {},
   "outputs": [
    {
     "data": {
      "text/plain": [
       "array([2.02271467, 2.04087188, 2.06239438, ..., 0.        , 0.        ,\n",
       "       0.        ])"
      ]
     },
     "execution_count": 40,
     "metadata": {},
     "output_type": "execute_result"
    }
   ],
   "source": [
    "indx = 0\n",
    "trainImages = []\n",
    "\n",
    "while vcap.isOpened() and indx < len(gt):\n",
    "    ret, frame = vcap.read()\n",
    "\n",
    "    # Convert to B/W\n",
    "    frame_gray = cv2.cvtColor(frame, cv2.COLOR_BGR2GRAY)\n",
    "    frame_gray = frame_gray[130:350, 35:605]\n",
    "    trainImages.append(frame_gray)\n",
    "    indx = indx + 1\n",
    "\n",
    "indxT = 0\n",
    "testImages = []\n",
    "testLabels = []\n",
    "while vcapTest.isOpened() and indxT < len(bt):\n",
    "    ret, frame = vcapTest.read()\n",
    "\n",
    "    # Convert to B/W\n",
    "    try:\n",
    "        frame_grayT = cv2.cvtColor(frame, cv2.COLOR_BGR2GRAY)\n",
    "        frame_grayT = frame_grayT[130:350, 35:605]\n",
    "        testImages.append(frame_grayT)\n",
    "        testLabels.append(bt[indxT][1])\n",
    "        indxT = indxT + 1\n",
    "    except:\n",
    "        indxT = len(bt)\n",
    "#set test labels to array for run function\n",
    "testLabels = np.asarray(testLabels)"
   ]
  },
  {
   "cell_type": "code",
   "execution_count": 9,
   "metadata": {},
   "outputs": [],
   "source": [
    "trainImages2 = np.expand_dims(trainImages, -1)\n",
    "testImages2 = np.expand_dims(testImages, -1)"
   ]
  },
  {
   "cell_type": "markdown",
   "metadata": {},
   "source": [
    "# Run model\n",
    "- Measure model on accuracy\n",
    "- Utilized cross entropy for loss calculation"
   ]
  },
  {
   "cell_type": "code",
   "execution_count": 45,
   "metadata": {},
   "outputs": [
    {
     "name": "stdout",
     "output_type": "stream",
     "text": [
      "Train on 20400 samples, validate on 8616 samples\n",
      "Epoch 1/2\n",
      "20400/20400 [==============================] - 6008s 294ms/sample - loss: 2.0864 - accuracy: 0.0325 - val_loss: 8.8032 - val_accuracy: 0.0000e+00\n",
      "Epoch 2/2\n",
      "20400/20400 [==============================] - 6742s 330ms/sample - loss: 0.3264 - accuracy: 0.0341 - val_loss: 11.9643 - val_accuracy: 0.0000e+00\n"
     ]
    }
   ],
   "source": [
    "model.compile(optimizer='adam',\n",
    "              loss=tf.keras.losses.SparseCategoricalCrossentropy(from_logits=True),\n",
    "              metrics=['accuracy'])\n",
    "\n",
    "history = model.fit(trainImages2, gt, epochs=2, \n",
    "                    validation_data=(testImages2, testLabels))\n",
    "\n"
   ]
  },
  {
   "cell_type": "markdown",
   "metadata": {},
   "source": [
    "# Plot Output"
   ]
  },
  {
   "cell_type": "code",
   "execution_count": 58,
   "metadata": {},
   "outputs": [
    {
     "name": "stdout",
     "output_type": "stream",
     "text": [
      "{'loss': [2.0863905339103703, 0.32637842226408276], 'accuracy': [0.03254902, 0.03406863], 'val_loss': [8.803160035621268, 11.964296985580175], 'val_accuracy': [0.0, 0.0]}\n"
     ]
    },
    {
     "data": {
      "image/png": "[encoded data removed]",
      "text/plain": [
       "<Figure size 432x288 with 1 Axes>"
      ]
     },
     "metadata": {
      "needs_background": "light"
     },
     "output_type": "display_data"
    }
   ],
   "source": [
    "plt.plot(history.history['loss'], label='loss')\n",
    "plt.plot(history.history['val_loss'], label = 'val_loss')\n",
    "plt.xlabel('Epoch')\n",
    "plt.ylabel('Accuracy')\n",
    "\n",
    "plt.legend(loc='lower right')\n",
    "print((history.history))\n",
    "#test_loss, test_acc = model.evaluate(test_images,  test_labels, verbose=2)"
   ]
  },
  {
   "cell_type": "code",
   "execution_count": null,
   "metadata": {},
   "outputs": [],
   "source": []
  }
 ],
 "metadata": {
  "kernelspec": {
   "display_name": "Python 3",
   "language": "python",
   "name": "python3"
  }
 },
 "nbformat": 4,
 "nbformat_minor": 2
}
